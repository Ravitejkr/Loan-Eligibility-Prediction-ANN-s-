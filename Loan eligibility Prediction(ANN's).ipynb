{
 "cells": [
  {
   "cell_type": "code",
   "execution_count": 1,
   "id": "094b1293",
   "metadata": {},
   "outputs": [],
   "source": [
    "from warnings import filterwarnings\n",
    "filterwarnings(\"ignore\")"
   ]
  },
  {
   "cell_type": "markdown",
   "id": "b71e39b6",
   "metadata": {},
   "source": [
    "### Read dataset"
   ]
  },
  {
   "cell_type": "code",
   "execution_count": 2,
   "id": "a9a7143a",
   "metadata": {},
   "outputs": [
    {
     "data": {
      "text/html": [
       "<div>\n",
       "<style scoped>\n",
       "    .dataframe tbody tr th:only-of-type {\n",
       "        vertical-align: middle;\n",
       "    }\n",
       "\n",
       "    .dataframe tbody tr th {\n",
       "        vertical-align: top;\n",
       "    }\n",
       "\n",
       "    .dataframe thead th {\n",
       "        text-align: right;\n",
       "    }\n",
       "</style>\n",
       "<table border=\"1\" class=\"dataframe\">\n",
       "  <thead>\n",
       "    <tr style=\"text-align: right;\">\n",
       "      <th></th>\n",
       "      <th>Loan_ID</th>\n",
       "      <th>Gender</th>\n",
       "      <th>Married</th>\n",
       "      <th>Dependents</th>\n",
       "      <th>Education</th>\n",
       "      <th>Self_Employed</th>\n",
       "      <th>ApplicantIncome</th>\n",
       "      <th>CoapplicantIncome</th>\n",
       "      <th>LoanAmount</th>\n",
       "      <th>Loan_Amount_Term</th>\n",
       "      <th>Credit_History</th>\n",
       "      <th>Property_Area</th>\n",
       "      <th>Loan_Status</th>\n",
       "    </tr>\n",
       "  </thead>\n",
       "  <tbody>\n",
       "    <tr>\n",
       "      <th>0</th>\n",
       "      <td>LP001002</td>\n",
       "      <td>Male</td>\n",
       "      <td>No</td>\n",
       "      <td>0</td>\n",
       "      <td>Graduate</td>\n",
       "      <td>No</td>\n",
       "      <td>5849.0</td>\n",
       "      <td>0.0</td>\n",
       "      <td>NaN</td>\n",
       "      <td>360.0</td>\n",
       "      <td>1.0</td>\n",
       "      <td>Urban</td>\n",
       "      <td>Y</td>\n",
       "    </tr>\n",
       "    <tr>\n",
       "      <th>1</th>\n",
       "      <td>LP001003</td>\n",
       "      <td>Male</td>\n",
       "      <td>Yes</td>\n",
       "      <td>1</td>\n",
       "      <td>Graduate</td>\n",
       "      <td>No</td>\n",
       "      <td>NaN</td>\n",
       "      <td>1508.0</td>\n",
       "      <td>128.0</td>\n",
       "      <td>360.0</td>\n",
       "      <td>1.0</td>\n",
       "      <td>Rural</td>\n",
       "      <td>N</td>\n",
       "    </tr>\n",
       "    <tr>\n",
       "      <th>2</th>\n",
       "      <td>LP001005</td>\n",
       "      <td>Male</td>\n",
       "      <td>Yes</td>\n",
       "      <td>0</td>\n",
       "      <td>Graduate</td>\n",
       "      <td>Yes</td>\n",
       "      <td>3000.0</td>\n",
       "      <td>0.0</td>\n",
       "      <td>66.0</td>\n",
       "      <td>360.0</td>\n",
       "      <td>1.0</td>\n",
       "      <td>Urban</td>\n",
       "      <td>Y</td>\n",
       "    </tr>\n",
       "    <tr>\n",
       "      <th>3</th>\n",
       "      <td>LP001006</td>\n",
       "      <td>Male</td>\n",
       "      <td>Yes</td>\n",
       "      <td>0</td>\n",
       "      <td>Not Graduate</td>\n",
       "      <td>No</td>\n",
       "      <td>2583.0</td>\n",
       "      <td>2358.0</td>\n",
       "      <td>120.0</td>\n",
       "      <td>360.0</td>\n",
       "      <td>1.0</td>\n",
       "      <td>Urban</td>\n",
       "      <td>Y</td>\n",
       "    </tr>\n",
       "    <tr>\n",
       "      <th>4</th>\n",
       "      <td>LP001008</td>\n",
       "      <td>Male</td>\n",
       "      <td>No</td>\n",
       "      <td>0</td>\n",
       "      <td>Graduate</td>\n",
       "      <td>No</td>\n",
       "      <td>6000.0</td>\n",
       "      <td>0.0</td>\n",
       "      <td>141.0</td>\n",
       "      <td>360.0</td>\n",
       "      <td>1.0</td>\n",
       "      <td>Urban</td>\n",
       "      <td>Y</td>\n",
       "    </tr>\n",
       "  </tbody>\n",
       "</table>\n",
       "</div>"
      ],
      "text/plain": [
       "    Loan_ID Gender Married Dependents     Education Self_Employed  \\\n",
       "0  LP001002   Male      No          0      Graduate            No   \n",
       "1  LP001003   Male     Yes          1      Graduate            No   \n",
       "2  LP001005   Male     Yes          0      Graduate           Yes   \n",
       "3  LP001006   Male     Yes          0  Not Graduate            No   \n",
       "4  LP001008   Male      No          0      Graduate            No   \n",
       "\n",
       "   ApplicantIncome  CoapplicantIncome  LoanAmount  Loan_Amount_Term  \\\n",
       "0           5849.0                0.0         NaN             360.0   \n",
       "1              NaN             1508.0       128.0             360.0   \n",
       "2           3000.0                0.0        66.0             360.0   \n",
       "3           2583.0             2358.0       120.0             360.0   \n",
       "4           6000.0                0.0       141.0             360.0   \n",
       "\n",
       "   Credit_History Property_Area Loan_Status  \n",
       "0             1.0         Urban           Y  \n",
       "1             1.0         Rural           N  \n",
       "2             1.0         Urban           Y  \n",
       "3             1.0         Urban           Y  \n",
       "4             1.0         Urban           Y  "
      ]
     },
     "execution_count": 2,
     "metadata": {},
     "output_type": "execute_result"
    }
   ],
   "source": [
    "import pandas as pd\n",
    "Atrain = pd.read_csv(\"C:/Users/Admin/Desktop/Ravitej Kaur/Projects/Loan eligibility Prediction/training_set.csv\")\n",
    "Atrain.head()"
   ]
  },
  {
   "cell_type": "markdown",
   "id": "ff25790a",
   "metadata": {},
   "source": [
    "### Missing data treatment"
   ]
  },
  {
   "cell_type": "code",
   "execution_count": 3,
   "id": "a23dd367",
   "metadata": {},
   "outputs": [
    {
     "data": {
      "text/plain": [
       "Loan_ID               0\n",
       "Gender               15\n",
       "Married               3\n",
       "Dependents           15\n",
       "Education             1\n",
       "Self_Employed        32\n",
       "ApplicantIncome       2\n",
       "CoapplicantIncome     1\n",
       "LoanAmount           22\n",
       "Loan_Amount_Term     14\n",
       "Credit_History       50\n",
       "Property_Area         0\n",
       "Loan_Status           0\n",
       "dtype: int64"
      ]
     },
     "execution_count": 3,
     "metadata": {},
     "output_type": "execute_result"
    }
   ],
   "source": [
    "Atrain.isna().sum()"
   ]
  },
  {
   "cell_type": "code",
   "execution_count": 4,
   "id": "a5b695aa",
   "metadata": {},
   "outputs": [],
   "source": [
    "from automation import replacer\n",
    "replacer(Atrain)"
   ]
  },
  {
   "cell_type": "code",
   "execution_count": 5,
   "id": "22786ebf",
   "metadata": {},
   "outputs": [
    {
     "data": {
      "text/plain": [
       "Loan_ID              0\n",
       "Gender               0\n",
       "Married              0\n",
       "Dependents           0\n",
       "Education            0\n",
       "Self_Employed        0\n",
       "ApplicantIncome      0\n",
       "CoapplicantIncome    0\n",
       "LoanAmount           0\n",
       "Loan_Amount_Term     0\n",
       "Credit_History       0\n",
       "Property_Area        0\n",
       "Loan_Status          0\n",
       "dtype: int64"
      ]
     },
     "execution_count": 5,
     "metadata": {},
     "output_type": "execute_result"
    }
   ],
   "source": [
    "Atrain.isna().sum()"
   ]
  },
  {
   "cell_type": "markdown",
   "id": "36c95bf8",
   "metadata": {},
   "source": [
    "### Drop unwanted columns"
   ]
  },
  {
   "cell_type": "code",
   "execution_count": 6,
   "id": "735c1382",
   "metadata": {},
   "outputs": [],
   "source": [
    "Btrain = Atrain.drop(labels=[\"Loan_ID\"],axis=1)"
   ]
  },
  {
   "cell_type": "markdown",
   "id": "cb8fc85e",
   "metadata": {},
   "source": [
    "### Define X and Y"
   ]
  },
  {
   "cell_type": "code",
   "execution_count": 7,
   "id": "9d2129b5",
   "metadata": {},
   "outputs": [],
   "source": [
    "Y = Btrain[[\"Loan_Status\"]]\n",
    "X = Btrain.drop(labels=[\"Loan_Status\"],axis=1)"
   ]
  },
  {
   "cell_type": "markdown",
   "id": "ff61ef8c",
   "metadata": {},
   "source": [
    "### Convert Y into ctegorical using label encoder"
   ]
  },
  {
   "cell_type": "code",
   "execution_count": 8,
   "id": "bd067493",
   "metadata": {},
   "outputs": [],
   "source": [
    "from sklearn.preprocessing import LabelEncoder\n",
    "le = LabelEncoder()\n",
    "Ynew = pd.DataFrame(le.fit_transform(Y),columns=[\"Loan_Status\"])"
   ]
  },
  {
   "cell_type": "markdown",
   "id": "b9533818",
   "metadata": {},
   "source": [
    "### Preprocessing"
   ]
  },
  {
   "cell_type": "code",
   "execution_count": 9,
   "id": "eb9b2c92",
   "metadata": {},
   "outputs": [],
   "source": [
    "from automation import data_prep\n",
    "Xnew = data_prep(X)"
   ]
  },
  {
   "cell_type": "markdown",
   "id": "b505c8b1",
   "metadata": {},
   "source": [
    "### Divide data into training and validation set"
   ]
  },
  {
   "cell_type": "code",
   "execution_count": 10,
   "id": "0ea1d393",
   "metadata": {},
   "outputs": [],
   "source": [
    "from sklearn.model_selection import train_test_split\n",
    "xtrain, xtest, ytrain, ytest = train_test_split(Xnew, Ynew, test_size=0.2, random_state=21)"
   ]
  },
  {
   "cell_type": "code",
   "execution_count": 11,
   "id": "98c920f1",
   "metadata": {},
   "outputs": [
    {
     "data": {
      "text/plain": [
       "(614, 20)"
      ]
     },
     "execution_count": 11,
     "metadata": {},
     "output_type": "execute_result"
    }
   ],
   "source": [
    "Xnew.shape"
   ]
  },
  {
   "cell_type": "markdown",
   "id": "1a8fd867",
   "metadata": {},
   "source": [
    "### Create neural network"
   ]
  },
  {
   "cell_type": "code",
   "execution_count": 12,
   "id": "f977a26d",
   "metadata": {},
   "outputs": [],
   "source": [
    "from keras.layers import Dense, Dropout\n",
    "from keras.models import Sequential"
   ]
  },
  {
   "cell_type": "code",
   "execution_count": 13,
   "id": "f2fe6dfd",
   "metadata": {},
   "outputs": [],
   "source": [
    "nn = Sequential()\n",
    "nn.add(Dense(200, input_dim=(20)))\n",
    "nn.add(Dense(200))\n",
    "nn.add(Dense(200))\n",
    "nn.add(Dense(1,activation=\"sigmoid\"))"
   ]
  },
  {
   "cell_type": "code",
   "execution_count": 14,
   "id": "81040cd5",
   "metadata": {},
   "outputs": [],
   "source": [
    "nn.compile(loss=\"binary_crossentropy\", metrics=[\"accuracy\"])"
   ]
  },
  {
   "cell_type": "code",
   "execution_count": 15,
   "id": "004782db",
   "metadata": {},
   "outputs": [
    {
     "name": "stdout",
     "output_type": "stream",
     "text": [
      "Epoch 1/100\n",
      "13/13 [==============================] - 0s 35ms/step - loss: 0.5490 - accuracy: 0.7321 - val_loss: 0.6687 - val_accuracy: 0.6263\n",
      "Epoch 2/100\n",
      "13/13 [==============================] - 0s 5ms/step - loss: 0.5040 - accuracy: 0.7857 - val_loss: 0.6546 - val_accuracy: 0.6364\n",
      "Epoch 3/100\n",
      "13/13 [==============================] - 0s 6ms/step - loss: 0.4964 - accuracy: 0.7908 - val_loss: 0.5419 - val_accuracy: 0.8081\n",
      "Epoch 4/100\n",
      "13/13 [==============================] - 0s 11ms/step - loss: 0.4741 - accuracy: 0.8010 - val_loss: 0.5096 - val_accuracy: 0.8081\n",
      "Epoch 5/100\n",
      "13/13 [==============================] - 0s 8ms/step - loss: 0.4908 - accuracy: 0.8010 - val_loss: 0.5980 - val_accuracy: 0.7778\n",
      "Epoch 6/100\n",
      "13/13 [==============================] - 0s 8ms/step - loss: 0.4818 - accuracy: 0.8036 - val_loss: 0.5596 - val_accuracy: 0.7778\n",
      "Epoch 7/100\n",
      "13/13 [==============================] - 0s 9ms/step - loss: 0.4766 - accuracy: 0.8036 - val_loss: 0.5495 - val_accuracy: 0.8182\n",
      "Epoch 8/100\n",
      "13/13 [==============================] - 0s 9ms/step - loss: 0.4823 - accuracy: 0.8010 - val_loss: 0.5039 - val_accuracy: 0.7980\n",
      "Epoch 9/100\n",
      "13/13 [==============================] - 0s 7ms/step - loss: 0.4696 - accuracy: 0.8087 - val_loss: 0.5212 - val_accuracy: 0.8081\n",
      "Epoch 10/100\n",
      "13/13 [==============================] - 0s 6ms/step - loss: 0.4762 - accuracy: 0.8061 - val_loss: 0.5184 - val_accuracy: 0.8081\n",
      "Epoch 11/100\n",
      "13/13 [==============================] - 0s 7ms/step - loss: 0.4783 - accuracy: 0.7985 - val_loss: 0.5082 - val_accuracy: 0.8081\n",
      "Epoch 12/100\n",
      "13/13 [==============================] - 0s 6ms/step - loss: 0.4661 - accuracy: 0.8036 - val_loss: 0.4875 - val_accuracy: 0.8182\n",
      "Epoch 13/100\n",
      "13/13 [==============================] - 0s 7ms/step - loss: 0.4679 - accuracy: 0.8087 - val_loss: 0.5744 - val_accuracy: 0.8081\n",
      "Epoch 14/100\n",
      "13/13 [==============================] - 0s 6ms/step - loss: 0.4752 - accuracy: 0.8036 - val_loss: 0.5107 - val_accuracy: 0.7980\n",
      "Epoch 15/100\n",
      "13/13 [==============================] - 0s 7ms/step - loss: 0.4706 - accuracy: 0.8138 - val_loss: 0.4866 - val_accuracy: 0.8081\n",
      "Epoch 16/100\n",
      "13/13 [==============================] - 0s 7ms/step - loss: 0.4601 - accuracy: 0.8087 - val_loss: 0.5714 - val_accuracy: 0.7778\n",
      "Epoch 17/100\n",
      "13/13 [==============================] - 0s 6ms/step - loss: 0.4721 - accuracy: 0.8087 - val_loss: 0.5532 - val_accuracy: 0.7980\n",
      "Epoch 18/100\n",
      "13/13 [==============================] - 0s 6ms/step - loss: 0.4648 - accuracy: 0.8112 - val_loss: 0.5235 - val_accuracy: 0.8182\n",
      "Epoch 19/100\n",
      "13/13 [==============================] - 0s 6ms/step - loss: 0.4753 - accuracy: 0.8061 - val_loss: 0.5151 - val_accuracy: 0.7980\n",
      "Epoch 20/100\n",
      "13/13 [==============================] - 0s 6ms/step - loss: 0.4606 - accuracy: 0.7959 - val_loss: 0.5859 - val_accuracy: 0.8081\n",
      "Epoch 21/100\n",
      "13/13 [==============================] - 0s 7ms/step - loss: 0.4681 - accuracy: 0.7934 - val_loss: 0.5600 - val_accuracy: 0.8182\n",
      "Epoch 22/100\n",
      "13/13 [==============================] - 0s 6ms/step - loss: 0.4716 - accuracy: 0.7959 - val_loss: 0.5325 - val_accuracy: 0.7980\n",
      "Epoch 23/100\n",
      "13/13 [==============================] - 0s 7ms/step - loss: 0.4602 - accuracy: 0.8061 - val_loss: 0.5314 - val_accuracy: 0.7980\n",
      "Epoch 24/100\n",
      "13/13 [==============================] - 0s 6ms/step - loss: 0.4645 - accuracy: 0.8036 - val_loss: 0.5377 - val_accuracy: 0.8081\n",
      "Epoch 25/100\n",
      "13/13 [==============================] - 0s 7ms/step - loss: 0.4709 - accuracy: 0.8112 - val_loss: 0.5443 - val_accuracy: 0.8081\n",
      "Epoch 26/100\n",
      "13/13 [==============================] - 0s 6ms/step - loss: 0.4611 - accuracy: 0.8087 - val_loss: 0.5183 - val_accuracy: 0.8081\n",
      "Epoch 27/100\n",
      "13/13 [==============================] - 0s 7ms/step - loss: 0.4563 - accuracy: 0.8163 - val_loss: 0.5416 - val_accuracy: 0.7980\n",
      "Epoch 28/100\n",
      "13/13 [==============================] - 0s 6ms/step - loss: 0.4601 - accuracy: 0.8061 - val_loss: 0.5054 - val_accuracy: 0.8081\n",
      "Epoch 29/100\n",
      "13/13 [==============================] - 0s 7ms/step - loss: 0.4618 - accuracy: 0.8112 - val_loss: 0.5490 - val_accuracy: 0.7980\n",
      "Epoch 30/100\n",
      "13/13 [==============================] - 0s 6ms/step - loss: 0.4551 - accuracy: 0.8112 - val_loss: 0.5437 - val_accuracy: 0.8081\n",
      "Epoch 31/100\n",
      "13/13 [==============================] - 0s 6ms/step - loss: 0.4543 - accuracy: 0.7934 - val_loss: 0.5258 - val_accuracy: 0.7980\n",
      "Epoch 32/100\n",
      "13/13 [==============================] - 0s 7ms/step - loss: 0.4592 - accuracy: 0.8112 - val_loss: 0.5553 - val_accuracy: 0.7778\n",
      "Epoch 33/100\n",
      "13/13 [==============================] - 0s 6ms/step - loss: 0.4605 - accuracy: 0.8112 - val_loss: 0.5364 - val_accuracy: 0.7677\n",
      "Epoch 34/100\n",
      "13/13 [==============================] - 0s 7ms/step - loss: 0.4605 - accuracy: 0.8112 - val_loss: 0.5251 - val_accuracy: 0.7980\n",
      "Epoch 35/100\n",
      "13/13 [==============================] - 0s 7ms/step - loss: 0.4585 - accuracy: 0.8036 - val_loss: 0.5053 - val_accuracy: 0.8081\n",
      "Epoch 36/100\n",
      "13/13 [==============================] - 0s 8ms/step - loss: 0.4557 - accuracy: 0.8061 - val_loss: 0.5081 - val_accuracy: 0.8081\n",
      "Epoch 37/100\n",
      "13/13 [==============================] - 0s 8ms/step - loss: 0.4557 - accuracy: 0.8138 - val_loss: 0.5229 - val_accuracy: 0.8081\n",
      "Epoch 38/100\n",
      "13/13 [==============================] - 0s 7ms/step - loss: 0.4634 - accuracy: 0.8163 - val_loss: 0.5168 - val_accuracy: 0.8081\n",
      "Epoch 39/100\n",
      "13/13 [==============================] - 0s 6ms/step - loss: 0.4555 - accuracy: 0.8061 - val_loss: 0.5454 - val_accuracy: 0.7677\n",
      "Epoch 40/100\n",
      "13/13 [==============================] - 0s 8ms/step - loss: 0.4630 - accuracy: 0.8010 - val_loss: 0.5481 - val_accuracy: 0.7879\n",
      "Epoch 41/100\n",
      "13/13 [==============================] - 0s 7ms/step - loss: 0.4551 - accuracy: 0.8138 - val_loss: 0.5023 - val_accuracy: 0.7980\n",
      "Epoch 42/100\n",
      "13/13 [==============================] - 0s 6ms/step - loss: 0.4573 - accuracy: 0.8138 - val_loss: 0.5338 - val_accuracy: 0.7980\n",
      "Epoch 43/100\n",
      "13/13 [==============================] - 0s 7ms/step - loss: 0.4531 - accuracy: 0.8061 - val_loss: 0.5029 - val_accuracy: 0.8081\n",
      "Epoch 44/100\n",
      "13/13 [==============================] - 0s 7ms/step - loss: 0.4499 - accuracy: 0.8138 - val_loss: 0.5817 - val_accuracy: 0.7980\n",
      "Epoch 45/100\n",
      "13/13 [==============================] - 0s 7ms/step - loss: 0.4613 - accuracy: 0.8138 - val_loss: 0.5274 - val_accuracy: 0.8081\n",
      "Epoch 46/100\n",
      "13/13 [==============================] - 0s 5ms/step - loss: 0.4507 - accuracy: 0.8138 - val_loss: 0.5294 - val_accuracy: 0.7879\n",
      "Epoch 47/100\n",
      "13/13 [==============================] - 0s 6ms/step - loss: 0.4560 - accuracy: 0.8112 - val_loss: 0.5260 - val_accuracy: 0.7980\n",
      "Epoch 48/100\n",
      "13/13 [==============================] - 0s 6ms/step - loss: 0.4543 - accuracy: 0.8112 - val_loss: 0.5273 - val_accuracy: 0.8081\n",
      "Epoch 49/100\n",
      "13/13 [==============================] - 0s 10ms/step - loss: 0.4541 - accuracy: 0.8112 - val_loss: 0.5204 - val_accuracy: 0.7980\n",
      "Epoch 50/100\n",
      "13/13 [==============================] - 0s 7ms/step - loss: 0.4521 - accuracy: 0.8138 - val_loss: 0.5469 - val_accuracy: 0.7980\n",
      "Epoch 51/100\n",
      "13/13 [==============================] - 0s 8ms/step - loss: 0.4565 - accuracy: 0.8036 - val_loss: 0.5132 - val_accuracy: 0.8081\n",
      "Epoch 52/100\n",
      "13/13 [==============================] - 0s 6ms/step - loss: 0.4520 - accuracy: 0.8112 - val_loss: 0.5071 - val_accuracy: 0.7980\n",
      "Epoch 53/100\n",
      "13/13 [==============================] - 0s 8ms/step - loss: 0.4502 - accuracy: 0.8112 - val_loss: 0.5292 - val_accuracy: 0.7980\n",
      "Epoch 54/100\n",
      "13/13 [==============================] - 0s 7ms/step - loss: 0.4566 - accuracy: 0.8087 - val_loss: 0.5298 - val_accuracy: 0.8081\n",
      "Epoch 55/100\n",
      "13/13 [==============================] - 0s 7ms/step - loss: 0.4488 - accuracy: 0.8112 - val_loss: 0.5097 - val_accuracy: 0.7980\n",
      "Epoch 56/100\n",
      "13/13 [==============================] - 0s 6ms/step - loss: 0.4489 - accuracy: 0.8061 - val_loss: 0.5190 - val_accuracy: 0.7879\n",
      "Epoch 57/100\n",
      "13/13 [==============================] - 0s 8ms/step - loss: 0.4528 - accuracy: 0.8138 - val_loss: 0.5331 - val_accuracy: 0.8081\n",
      "Epoch 58/100\n",
      "13/13 [==============================] - 0s 7ms/step - loss: 0.4572 - accuracy: 0.8163 - val_loss: 0.5167 - val_accuracy: 0.7980\n"
     ]
    },
    {
     "name": "stdout",
     "output_type": "stream",
     "text": [
      "Epoch 59/100\n",
      "13/13 [==============================] - 0s 7ms/step - loss: 0.4495 - accuracy: 0.8112 - val_loss: 0.5497 - val_accuracy: 0.7475\n",
      "Epoch 60/100\n",
      "13/13 [==============================] - 0s 6ms/step - loss: 0.4589 - accuracy: 0.8036 - val_loss: 0.5164 - val_accuracy: 0.8081\n",
      "Epoch 61/100\n",
      "13/13 [==============================] - 0s 6ms/step - loss: 0.4536 - accuracy: 0.8138 - val_loss: 0.5522 - val_accuracy: 0.7980\n",
      "Epoch 62/100\n",
      "13/13 [==============================] - 0s 6ms/step - loss: 0.4494 - accuracy: 0.8112 - val_loss: 0.5196 - val_accuracy: 0.7879\n",
      "Epoch 63/100\n",
      "13/13 [==============================] - 0s 6ms/step - loss: 0.4556 - accuracy: 0.8189 - val_loss: 0.5451 - val_accuracy: 0.7980\n",
      "Epoch 64/100\n",
      "13/13 [==============================] - 0s 7ms/step - loss: 0.4543 - accuracy: 0.8112 - val_loss: 0.5061 - val_accuracy: 0.8081\n",
      "Epoch 65/100\n",
      "13/13 [==============================] - 0s 6ms/step - loss: 0.4534 - accuracy: 0.8087 - val_loss: 0.5143 - val_accuracy: 0.8182\n",
      "Epoch 66/100\n",
      "13/13 [==============================] - 0s 6ms/step - loss: 0.4520 - accuracy: 0.8163 - val_loss: 0.5160 - val_accuracy: 0.8081\n",
      "Epoch 67/100\n",
      "13/13 [==============================] - 0s 6ms/step - loss: 0.4514 - accuracy: 0.8112 - val_loss: 0.5183 - val_accuracy: 0.8182\n",
      "Epoch 68/100\n",
      "13/13 [==============================] - 0s 6ms/step - loss: 0.4510 - accuracy: 0.8112 - val_loss: 0.5354 - val_accuracy: 0.8081\n",
      "Epoch 69/100\n",
      "13/13 [==============================] - 0s 7ms/step - loss: 0.4563 - accuracy: 0.8087 - val_loss: 0.5095 - val_accuracy: 0.8081\n",
      "Epoch 70/100\n",
      "13/13 [==============================] - 0s 6ms/step - loss: 0.4517 - accuracy: 0.8112 - val_loss: 0.5052 - val_accuracy: 0.7980\n",
      "Epoch 71/100\n",
      "13/13 [==============================] - 0s 7ms/step - loss: 0.4517 - accuracy: 0.8112 - val_loss: 0.5011 - val_accuracy: 0.8081\n",
      "Epoch 72/100\n",
      "13/13 [==============================] - 0s 6ms/step - loss: 0.4534 - accuracy: 0.8163 - val_loss: 0.5155 - val_accuracy: 0.8081\n",
      "Epoch 73/100\n",
      "13/13 [==============================] - 0s 6ms/step - loss: 0.4488 - accuracy: 0.8112 - val_loss: 0.5225 - val_accuracy: 0.8081\n",
      "Epoch 74/100\n",
      "13/13 [==============================] - 0s 7ms/step - loss: 0.4484 - accuracy: 0.8112 - val_loss: 0.5388 - val_accuracy: 0.8081\n",
      "Epoch 75/100\n",
      "13/13 [==============================] - 0s 6ms/step - loss: 0.4519 - accuracy: 0.8112 - val_loss: 0.5021 - val_accuracy: 0.8081\n",
      "Epoch 76/100\n",
      "13/13 [==============================] - 0s 6ms/step - loss: 0.4504 - accuracy: 0.8087 - val_loss: 0.5163 - val_accuracy: 0.8081\n",
      "Epoch 77/100\n",
      "13/13 [==============================] - 0s 7ms/step - loss: 0.4552 - accuracy: 0.8087 - val_loss: 0.5036 - val_accuracy: 0.8081\n",
      "Epoch 78/100\n",
      "13/13 [==============================] - 0s 6ms/step - loss: 0.4521 - accuracy: 0.8163 - val_loss: 0.5114 - val_accuracy: 0.8081\n",
      "Epoch 79/100\n",
      "13/13 [==============================] - 0s 6ms/step - loss: 0.4505 - accuracy: 0.8087 - val_loss: 0.5150 - val_accuracy: 0.8182\n",
      "Epoch 80/100\n",
      "13/13 [==============================] - 0s 6ms/step - loss: 0.4523 - accuracy: 0.8112 - val_loss: 0.5055 - val_accuracy: 0.8081\n",
      "Epoch 81/100\n",
      "13/13 [==============================] - 0s 6ms/step - loss: 0.4495 - accuracy: 0.8087 - val_loss: 0.5051 - val_accuracy: 0.8081\n",
      "Epoch 82/100\n",
      "13/13 [==============================] - 0s 6ms/step - loss: 0.4503 - accuracy: 0.8138 - val_loss: 0.5005 - val_accuracy: 0.8081\n",
      "Epoch 83/100\n",
      "13/13 [==============================] - 0s 7ms/step - loss: 0.4528 - accuracy: 0.8138 - val_loss: 0.5148 - val_accuracy: 0.8081\n",
      "Epoch 84/100\n",
      "13/13 [==============================] - 0s 6ms/step - loss: 0.4509 - accuracy: 0.8138 - val_loss: 0.5095 - val_accuracy: 0.8182\n",
      "Epoch 85/100\n",
      "13/13 [==============================] - 0s 6ms/step - loss: 0.4497 - accuracy: 0.8112 - val_loss: 0.5156 - val_accuracy: 0.8081\n",
      "Epoch 86/100\n",
      "13/13 [==============================] - 0s 6ms/step - loss: 0.4516 - accuracy: 0.8138 - val_loss: 0.4966 - val_accuracy: 0.8081\n",
      "Epoch 87/100\n",
      "13/13 [==============================] - 0s 7ms/step - loss: 0.4525 - accuracy: 0.8112 - val_loss: 0.4954 - val_accuracy: 0.8081\n",
      "Epoch 88/100\n",
      "13/13 [==============================] - 0s 6ms/step - loss: 0.4514 - accuracy: 0.8138 - val_loss: 0.5196 - val_accuracy: 0.7980\n",
      "Epoch 89/100\n",
      "13/13 [==============================] - 0s 6ms/step - loss: 0.4505 - accuracy: 0.8087 - val_loss: 0.5149 - val_accuracy: 0.7879\n",
      "Epoch 90/100\n",
      "13/13 [==============================] - 0s 6ms/step - loss: 0.4535 - accuracy: 0.8189 - val_loss: 0.5358 - val_accuracy: 0.7980\n",
      "Epoch 91/100\n",
      "13/13 [==============================] - 0s 7ms/step - loss: 0.4513 - accuracy: 0.8087 - val_loss: 0.5115 - val_accuracy: 0.7980\n",
      "Epoch 92/100\n",
      "13/13 [==============================] - 0s 6ms/step - loss: 0.4513 - accuracy: 0.8112 - val_loss: 0.5263 - val_accuracy: 0.8081\n",
      "Epoch 93/100\n",
      "13/13 [==============================] - 0s 6ms/step - loss: 0.4550 - accuracy: 0.8112 - val_loss: 0.5171 - val_accuracy: 0.7980\n",
      "Epoch 94/100\n",
      "13/13 [==============================] - 0s 7ms/step - loss: 0.4517 - accuracy: 0.8087 - val_loss: 0.5168 - val_accuracy: 0.8081\n",
      "Epoch 95/100\n",
      "13/13 [==============================] - 0s 6ms/step - loss: 0.4530 - accuracy: 0.8189 - val_loss: 0.5145 - val_accuracy: 0.8081\n",
      "Epoch 96/100\n",
      "13/13 [==============================] - 0s 6ms/step - loss: 0.4504 - accuracy: 0.8138 - val_loss: 0.5276 - val_accuracy: 0.8081\n",
      "Epoch 97/100\n",
      "13/13 [==============================] - 0s 7ms/step - loss: 0.4470 - accuracy: 0.8061 - val_loss: 0.5109 - val_accuracy: 0.7980\n",
      "Epoch 98/100\n",
      "13/13 [==============================] - 0s 7ms/step - loss: 0.4501 - accuracy: 0.8087 - val_loss: 0.5153 - val_accuracy: 0.8081\n",
      "Epoch 99/100\n",
      "13/13 [==============================] - 0s 6ms/step - loss: 0.4493 - accuracy: 0.8087 - val_loss: 0.5308 - val_accuracy: 0.8081\n",
      "Epoch 100/100\n",
      "13/13 [==============================] - 0s 6ms/step - loss: 0.4520 - accuracy: 0.8138 - val_loss: 0.5253 - val_accuracy: 0.7980\n"
     ]
    }
   ],
   "source": [
    "model = nn.fit(xtrain, ytrain, epochs=100, validation_split=0.2)"
   ]
  },
  {
   "cell_type": "markdown",
   "id": "2b755c30",
   "metadata": {},
   "source": [
    "### Check for overfitting"
   ]
  },
  {
   "cell_type": "code",
   "execution_count": 16,
   "id": "9c61f196",
   "metadata": {},
   "outputs": [],
   "source": [
    "from sklearn.metrics import accuracy_score\n",
    "pred_tr = []\n",
    "for i in nn.predict(xtrain):\n",
    "    if(i[0] < 0.5):\n",
    "        pred_tr.append(0)\n",
    "    else:\n",
    "        pred_tr.append(1)"
   ]
  },
  {
   "cell_type": "code",
   "execution_count": 17,
   "id": "02fe09c2",
   "metadata": {},
   "outputs": [],
   "source": [
    "pred_ts = []\n",
    "for i in nn.predict(xtest):\n",
    "    if(i[0] < 0.5):\n",
    "        pred_ts.append(0)\n",
    "    else:\n",
    "        pred_ts.append(1)"
   ]
  },
  {
   "cell_type": "code",
   "execution_count": 18,
   "id": "c647d72c",
   "metadata": {},
   "outputs": [],
   "source": [
    "acc_tr = accuracy_score(ytrain,pred_tr)\n",
    "acc_ts = accuracy_score(ytest,pred_ts)"
   ]
  },
  {
   "cell_type": "code",
   "execution_count": 19,
   "id": "b6c0abc5",
   "metadata": {},
   "outputs": [
    {
     "data": {
      "text/plain": [
       "0.8126272912423625"
      ]
     },
     "execution_count": 19,
     "metadata": {},
     "output_type": "execute_result"
    }
   ],
   "source": [
    "acc_tr"
   ]
  },
  {
   "cell_type": "code",
   "execution_count": 20,
   "id": "fb82cf59",
   "metadata": {},
   "outputs": [
    {
     "data": {
      "text/plain": [
       "0.7967479674796748"
      ]
     },
     "execution_count": 20,
     "metadata": {},
     "output_type": "execute_result"
    }
   ],
   "source": [
    "acc_ts"
   ]
  },
  {
   "cell_type": "markdown",
   "id": "e90c68d0",
   "metadata": {},
   "source": [
    "### Create a model with dropout layer"
   ]
  },
  {
   "cell_type": "code",
   "execution_count": 21,
   "id": "b1abc7ca",
   "metadata": {},
   "outputs": [],
   "source": [
    "nn1 = Sequential()\n",
    "nn1.add(Dense(200, input_dim=(20)))\n",
    "nn1.add(Dense(200))\n",
    "nn1.add(Dropout(0.1))\n",
    "nn1.add(Dense(200))\n",
    "nn1.add(Dropout(0.1))\n",
    "nn1.add(Dense(1,activation=\"sigmoid\"))"
   ]
  },
  {
   "cell_type": "code",
   "execution_count": 22,
   "id": "2726e2d2",
   "metadata": {},
   "outputs": [
    {
     "name": "stdout",
     "output_type": "stream",
     "text": [
      "Epoch 1/100\n",
      "13/13 [==============================] - 0s 33ms/step - loss: 0.5695 - accuracy: 0.7423 - val_loss: 0.5439 - val_accuracy: 0.7677\n",
      "Epoch 2/100\n",
      "13/13 [==============================] - 0s 8ms/step - loss: 0.4921 - accuracy: 0.7857 - val_loss: 0.5402 - val_accuracy: 0.7980\n",
      "Epoch 3/100\n",
      "13/13 [==============================] - 0s 7ms/step - loss: 0.4953 - accuracy: 0.7857 - val_loss: 0.5048 - val_accuracy: 0.7980\n",
      "Epoch 4/100\n",
      "13/13 [==============================] - 0s 8ms/step - loss: 0.4762 - accuracy: 0.7985 - val_loss: 0.5012 - val_accuracy: 0.8182\n",
      "Epoch 5/100\n",
      "13/13 [==============================] - 0s 7ms/step - loss: 0.4964 - accuracy: 0.7959 - val_loss: 0.5111 - val_accuracy: 0.7879\n",
      "Epoch 6/100\n",
      "13/13 [==============================] - 0s 7ms/step - loss: 0.4693 - accuracy: 0.7985 - val_loss: 0.5665 - val_accuracy: 0.7980\n",
      "Epoch 7/100\n",
      "13/13 [==============================] - 0s 7ms/step - loss: 0.4688 - accuracy: 0.7934 - val_loss: 0.5976 - val_accuracy: 0.7576\n",
      "Epoch 8/100\n",
      "13/13 [==============================] - 0s 7ms/step - loss: 0.4905 - accuracy: 0.8163 - val_loss: 0.5276 - val_accuracy: 0.7576\n",
      "Epoch 9/100\n",
      "13/13 [==============================] - 0s 7ms/step - loss: 0.4731 - accuracy: 0.8036 - val_loss: 0.5028 - val_accuracy: 0.8182\n",
      "Epoch 10/100\n",
      "13/13 [==============================] - 0s 7ms/step - loss: 0.4775 - accuracy: 0.8061 - val_loss: 0.6720 - val_accuracy: 0.6768\n",
      "Epoch 11/100\n",
      "13/13 [==============================] - 0s 7ms/step - loss: 0.4846 - accuracy: 0.7857 - val_loss: 0.6078 - val_accuracy: 0.7071\n",
      "Epoch 12/100\n",
      "13/13 [==============================] - 0s 7ms/step - loss: 0.4874 - accuracy: 0.7908 - val_loss: 0.5006 - val_accuracy: 0.8182\n",
      "Epoch 13/100\n",
      "13/13 [==============================] - 0s 7ms/step - loss: 0.4817 - accuracy: 0.8010 - val_loss: 0.5158 - val_accuracy: 0.7879\n",
      "Epoch 14/100\n",
      "13/13 [==============================] - 0s 12ms/step - loss: 0.4700 - accuracy: 0.7959 - val_loss: 0.5266 - val_accuracy: 0.7980\n",
      "Epoch 15/100\n",
      "13/13 [==============================] - 0s 11ms/step - loss: 0.4796 - accuracy: 0.7959 - val_loss: 0.5215 - val_accuracy: 0.8182\n",
      "Epoch 16/100\n",
      "13/13 [==============================] - 0s 9ms/step - loss: 0.4703 - accuracy: 0.7985 - val_loss: 0.5303 - val_accuracy: 0.7980\n",
      "Epoch 17/100\n",
      "13/13 [==============================] - 0s 9ms/step - loss: 0.4686 - accuracy: 0.8061 - val_loss: 0.5390 - val_accuracy: 0.8081\n",
      "Epoch 18/100\n",
      "13/13 [==============================] - 0s 9ms/step - loss: 0.4821 - accuracy: 0.7985 - val_loss: 0.5305 - val_accuracy: 0.8081\n",
      "Epoch 19/100\n",
      "13/13 [==============================] - 0s 8ms/step - loss: 0.4746 - accuracy: 0.8061 - val_loss: 0.5148 - val_accuracy: 0.7879\n",
      "Epoch 20/100\n",
      "13/13 [==============================] - 0s 7ms/step - loss: 0.4697 - accuracy: 0.7985 - val_loss: 0.4973 - val_accuracy: 0.8081\n",
      "Epoch 21/100\n",
      "13/13 [==============================] - 0s 7ms/step - loss: 0.4668 - accuracy: 0.8010 - val_loss: 0.5780 - val_accuracy: 0.8081\n",
      "Epoch 22/100\n",
      "13/13 [==============================] - 0s 7ms/step - loss: 0.4735 - accuracy: 0.8010 - val_loss: 0.5687 - val_accuracy: 0.8081\n",
      "Epoch 23/100\n",
      "13/13 [==============================] - 0s 8ms/step - loss: 0.4697 - accuracy: 0.8138 - val_loss: 0.5551 - val_accuracy: 0.8081\n",
      "Epoch 24/100\n",
      "13/13 [==============================] - 0s 9ms/step - loss: 0.4710 - accuracy: 0.7985 - val_loss: 0.5654 - val_accuracy: 0.7980\n",
      "Epoch 25/100\n",
      "13/13 [==============================] - 0s 8ms/step - loss: 0.4675 - accuracy: 0.8163 - val_loss: 0.5371 - val_accuracy: 0.7778\n",
      "Epoch 26/100\n",
      "13/13 [==============================] - 0s 8ms/step - loss: 0.4692 - accuracy: 0.8010 - val_loss: 0.5616 - val_accuracy: 0.8081\n",
      "Epoch 27/100\n",
      "13/13 [==============================] - 0s 7ms/step - loss: 0.4637 - accuracy: 0.8112 - val_loss: 0.5380 - val_accuracy: 0.7879\n",
      "Epoch 28/100\n",
      "13/13 [==============================] - 0s 7ms/step - loss: 0.4749 - accuracy: 0.8087 - val_loss: 0.5433 - val_accuracy: 0.7980\n",
      "Epoch 29/100\n",
      "13/13 [==============================] - 0s 8ms/step - loss: 0.4716 - accuracy: 0.8010 - val_loss: 0.5324 - val_accuracy: 0.7980\n",
      "Epoch 30/100\n",
      "13/13 [==============================] - 0s 9ms/step - loss: 0.4660 - accuracy: 0.8163 - val_loss: 0.5138 - val_accuracy: 0.8081\n",
      "Epoch 31/100\n",
      "13/13 [==============================] - 0s 8ms/step - loss: 0.4628 - accuracy: 0.8163 - val_loss: 0.5533 - val_accuracy: 0.8081\n",
      "Epoch 32/100\n",
      "13/13 [==============================] - 0s 8ms/step - loss: 0.4694 - accuracy: 0.8036 - val_loss: 0.5443 - val_accuracy: 0.7980\n",
      "Epoch 33/100\n",
      "13/13 [==============================] - 0s 7ms/step - loss: 0.4718 - accuracy: 0.7985 - val_loss: 0.5196 - val_accuracy: 0.8081\n",
      "Epoch 34/100\n",
      "13/13 [==============================] - 0s 7ms/step - loss: 0.4586 - accuracy: 0.8163 - val_loss: 0.5222 - val_accuracy: 0.8081\n",
      "Epoch 35/100\n",
      "13/13 [==============================] - 0s 8ms/step - loss: 0.4643 - accuracy: 0.8112 - val_loss: 0.5325 - val_accuracy: 0.7778\n",
      "Epoch 36/100\n",
      "13/13 [==============================] - 0s 8ms/step - loss: 0.4545 - accuracy: 0.8036 - val_loss: 0.5224 - val_accuracy: 0.7879\n",
      "Epoch 37/100\n",
      "13/13 [==============================] - 0s 7ms/step - loss: 0.4668 - accuracy: 0.8010 - val_loss: 0.5536 - val_accuracy: 0.8081\n",
      "Epoch 38/100\n",
      "13/13 [==============================] - 0s 7ms/step - loss: 0.4623 - accuracy: 0.8061 - val_loss: 0.5110 - val_accuracy: 0.7879\n",
      "Epoch 39/100\n",
      "13/13 [==============================] - 0s 7ms/step - loss: 0.4581 - accuracy: 0.8036 - val_loss: 0.5135 - val_accuracy: 0.7879\n",
      "Epoch 40/100\n",
      "13/13 [==============================] - 0s 8ms/step - loss: 0.4612 - accuracy: 0.8087 - val_loss: 0.5210 - val_accuracy: 0.8081\n",
      "Epoch 41/100\n",
      "13/13 [==============================] - 0s 7ms/step - loss: 0.4637 - accuracy: 0.8112 - val_loss: 0.5229 - val_accuracy: 0.8182\n",
      "Epoch 42/100\n",
      "13/13 [==============================] - 0s 8ms/step - loss: 0.4658 - accuracy: 0.8036 - val_loss: 0.5288 - val_accuracy: 0.7980\n",
      "Epoch 43/100\n",
      "13/13 [==============================] - 0s 10ms/step - loss: 0.4564 - accuracy: 0.8036 - val_loss: 0.4910 - val_accuracy: 0.8081\n",
      "Epoch 44/100\n",
      "13/13 [==============================] - 0s 9ms/step - loss: 0.4631 - accuracy: 0.8036 - val_loss: 0.5370 - val_accuracy: 0.8081\n",
      "Epoch 45/100\n",
      "13/13 [==============================] - 0s 8ms/step - loss: 0.4597 - accuracy: 0.8036 - val_loss: 0.5312 - val_accuracy: 0.8081\n",
      "Epoch 46/100\n",
      "13/13 [==============================] - 0s 7ms/step - loss: 0.4677 - accuracy: 0.8163 - val_loss: 0.5301 - val_accuracy: 0.8081\n",
      "Epoch 47/100\n",
      "13/13 [==============================] - 0s 7ms/step - loss: 0.4642 - accuracy: 0.8112 - val_loss: 0.5362 - val_accuracy: 0.7980\n",
      "Epoch 48/100\n",
      "13/13 [==============================] - 0s 7ms/step - loss: 0.4619 - accuracy: 0.8036 - val_loss: 0.5234 - val_accuracy: 0.7879\n",
      "Epoch 49/100\n",
      "13/13 [==============================] - 0s 8ms/step - loss: 0.4622 - accuracy: 0.8061 - val_loss: 0.5108 - val_accuracy: 0.8081\n",
      "Epoch 50/100\n",
      "13/13 [==============================] - 0s 7ms/step - loss: 0.4636 - accuracy: 0.8112 - val_loss: 0.4933 - val_accuracy: 0.8081\n",
      "Epoch 51/100\n",
      "13/13 [==============================] - 0s 8ms/step - loss: 0.4607 - accuracy: 0.8036 - val_loss: 0.5409 - val_accuracy: 0.8081\n",
      "Epoch 52/100\n",
      "13/13 [==============================] - 0s 7ms/step - loss: 0.4662 - accuracy: 0.8061 - val_loss: 0.5096 - val_accuracy: 0.7980\n",
      "Epoch 53/100\n",
      "13/13 [==============================] - 0s 8ms/step - loss: 0.4629 - accuracy: 0.8138 - val_loss: 0.5254 - val_accuracy: 0.7980\n",
      "Epoch 54/100\n",
      "13/13 [==============================] - 0s 7ms/step - loss: 0.4606 - accuracy: 0.8138 - val_loss: 0.5156 - val_accuracy: 0.7980\n",
      "Epoch 55/100\n",
      "13/13 [==============================] - 0s 7ms/step - loss: 0.4561 - accuracy: 0.8138 - val_loss: 0.5171 - val_accuracy: 0.8081\n",
      "Epoch 56/100\n",
      "13/13 [==============================] - 0s 7ms/step - loss: 0.4643 - accuracy: 0.8112 - val_loss: 0.5126 - val_accuracy: 0.8081\n",
      "Epoch 57/100\n",
      "13/13 [==============================] - 0s 7ms/step - loss: 0.4579 - accuracy: 0.8112 - val_loss: 0.5198 - val_accuracy: 0.8081\n",
      "Epoch 58/100\n",
      "13/13 [==============================] - 0s 8ms/step - loss: 0.4555 - accuracy: 0.8036 - val_loss: 0.5118 - val_accuracy: 0.8081\n"
     ]
    },
    {
     "name": "stdout",
     "output_type": "stream",
     "text": [
      "Epoch 59/100\n",
      "13/13 [==============================] - 0s 7ms/step - loss: 0.4608 - accuracy: 0.8112 - val_loss: 0.5257 - val_accuracy: 0.8081\n",
      "Epoch 60/100\n",
      "13/13 [==============================] - 0s 7ms/step - loss: 0.4669 - accuracy: 0.8061 - val_loss: 0.4958 - val_accuracy: 0.8081\n",
      "Epoch 61/100\n",
      "13/13 [==============================] - 0s 7ms/step - loss: 0.4577 - accuracy: 0.8061 - val_loss: 0.5510 - val_accuracy: 0.8081\n",
      "Epoch 62/100\n",
      "13/13 [==============================] - 0s 7ms/step - loss: 0.4604 - accuracy: 0.8112 - val_loss: 0.5069 - val_accuracy: 0.8182\n",
      "Epoch 63/100\n",
      "13/13 [==============================] - 0s 7ms/step - loss: 0.4570 - accuracy: 0.8112 - val_loss: 0.5123 - val_accuracy: 0.8081\n",
      "Epoch 64/100\n",
      "13/13 [==============================] - 0s 7ms/step - loss: 0.4618 - accuracy: 0.8087 - val_loss: 0.5377 - val_accuracy: 0.7980\n",
      "Epoch 65/100\n",
      "13/13 [==============================] - 0s 7ms/step - loss: 0.4596 - accuracy: 0.7985 - val_loss: 0.5164 - val_accuracy: 0.7879\n",
      "Epoch 66/100\n",
      "13/13 [==============================] - 0s 7ms/step - loss: 0.4604 - accuracy: 0.8010 - val_loss: 0.4994 - val_accuracy: 0.8081\n",
      "Epoch 67/100\n",
      "13/13 [==============================] - 0s 7ms/step - loss: 0.4540 - accuracy: 0.8163 - val_loss: 0.4923 - val_accuracy: 0.8081\n",
      "Epoch 68/100\n",
      "13/13 [==============================] - 0s 7ms/step - loss: 0.4535 - accuracy: 0.8138 - val_loss: 0.5079 - val_accuracy: 0.8081\n",
      "Epoch 69/100\n",
      "13/13 [==============================] - 0s 8ms/step - loss: 0.4567 - accuracy: 0.8138 - val_loss: 0.5209 - val_accuracy: 0.8182\n",
      "Epoch 70/100\n",
      "13/13 [==============================] - 0s 7ms/step - loss: 0.4636 - accuracy: 0.8189 - val_loss: 0.5381 - val_accuracy: 0.7980\n",
      "Epoch 71/100\n",
      "13/13 [==============================] - 0s 7ms/step - loss: 0.4583 - accuracy: 0.8112 - val_loss: 0.5061 - val_accuracy: 0.7980\n",
      "Epoch 72/100\n",
      "13/13 [==============================] - 0s 7ms/step - loss: 0.4628 - accuracy: 0.8061 - val_loss: 0.4959 - val_accuracy: 0.8081\n",
      "Epoch 73/100\n",
      "13/13 [==============================] - ETA: 0s - loss: 0.4514 - accuracy: 0.80 - 0s 7ms/step - loss: 0.4514 - accuracy: 0.8061 - val_loss: 0.5148 - val_accuracy: 0.7980\n",
      "Epoch 74/100\n",
      "13/13 [==============================] - 0s 7ms/step - loss: 0.4495 - accuracy: 0.7985 - val_loss: 0.5178 - val_accuracy: 0.8182\n",
      "Epoch 75/100\n",
      "13/13 [==============================] - 0s 7ms/step - loss: 0.4587 - accuracy: 0.8010 - val_loss: 0.5099 - val_accuracy: 0.7980\n",
      "Epoch 76/100\n",
      "13/13 [==============================] - 0s 7ms/step - loss: 0.4580 - accuracy: 0.8112 - val_loss: 0.5175 - val_accuracy: 0.8081\n",
      "Epoch 77/100\n",
      "13/13 [==============================] - 0s 7ms/step - loss: 0.4538 - accuracy: 0.8061 - val_loss: 0.5179 - val_accuracy: 0.7980\n",
      "Epoch 78/100\n",
      "13/13 [==============================] - 0s 7ms/step - loss: 0.4582 - accuracy: 0.8010 - val_loss: 0.4904 - val_accuracy: 0.8182\n",
      "Epoch 79/100\n",
      "13/13 [==============================] - 0s 7ms/step - loss: 0.4550 - accuracy: 0.8138 - val_loss: 0.5121 - val_accuracy: 0.8081\n",
      "Epoch 80/100\n",
      "13/13 [==============================] - 0s 7ms/step - loss: 0.4558 - accuracy: 0.8087 - val_loss: 0.5282 - val_accuracy: 0.8182\n",
      "Epoch 81/100\n",
      "13/13 [==============================] - 0s 7ms/step - loss: 0.4587 - accuracy: 0.8112 - val_loss: 0.5094 - val_accuracy: 0.8182\n",
      "Epoch 82/100\n",
      "13/13 [==============================] - 0s 7ms/step - loss: 0.4580 - accuracy: 0.8163 - val_loss: 0.5084 - val_accuracy: 0.8081\n",
      "Epoch 83/100\n",
      "13/13 [==============================] - 0s 6ms/step - loss: 0.4620 - accuracy: 0.8112 - val_loss: 0.4971 - val_accuracy: 0.7980\n",
      "Epoch 84/100\n",
      "13/13 [==============================] - 0s 8ms/step - loss: 0.4542 - accuracy: 0.8061 - val_loss: 0.5130 - val_accuracy: 0.7980\n",
      "Epoch 85/100\n",
      "13/13 [==============================] - 0s 8ms/step - loss: 0.4525 - accuracy: 0.8138 - val_loss: 0.4947 - val_accuracy: 0.7980\n",
      "Epoch 86/100\n",
      "13/13 [==============================] - 0s 8ms/step - loss: 0.4526 - accuracy: 0.8061 - val_loss: 0.5207 - val_accuracy: 0.7980\n",
      "Epoch 87/100\n",
      "13/13 [==============================] - 0s 8ms/step - loss: 0.4568 - accuracy: 0.8061 - val_loss: 0.5163 - val_accuracy: 0.8081\n",
      "Epoch 88/100\n",
      "13/13 [==============================] - 0s 9ms/step - loss: 0.4539 - accuracy: 0.8087 - val_loss: 0.5315 - val_accuracy: 0.8081\n",
      "Epoch 89/100\n",
      "13/13 [==============================] - 0s 9ms/step - loss: 0.4606 - accuracy: 0.8112 - val_loss: 0.5195 - val_accuracy: 0.8081\n",
      "Epoch 90/100\n",
      "13/13 [==============================] - 0s 8ms/step - loss: 0.4546 - accuracy: 0.8087 - val_loss: 0.5268 - val_accuracy: 0.8081\n",
      "Epoch 91/100\n",
      "13/13 [==============================] - 0s 8ms/step - loss: 0.4518 - accuracy: 0.8112 - val_loss: 0.5110 - val_accuracy: 0.7980\n",
      "Epoch 92/100\n",
      "13/13 [==============================] - 0s 10ms/step - loss: 0.4542 - accuracy: 0.8087 - val_loss: 0.5027 - val_accuracy: 0.8081\n",
      "Epoch 93/100\n",
      "13/13 [==============================] - 0s 9ms/step - loss: 0.4519 - accuracy: 0.8138 - val_loss: 0.4993 - val_accuracy: 0.8081\n",
      "Epoch 94/100\n",
      "13/13 [==============================] - 0s 12ms/step - loss: 0.4518 - accuracy: 0.8112 - val_loss: 0.5199 - val_accuracy: 0.8182\n",
      "Epoch 95/100\n",
      "13/13 [==============================] - 0s 8ms/step - loss: 0.4546 - accuracy: 0.8112 - val_loss: 0.5329 - val_accuracy: 0.8182\n",
      "Epoch 96/100\n",
      "13/13 [==============================] - 0s 7ms/step - loss: 0.4571 - accuracy: 0.8036 - val_loss: 0.5105 - val_accuracy: 0.7980\n",
      "Epoch 97/100\n",
      "13/13 [==============================] - 0s 7ms/step - loss: 0.4561 - accuracy: 0.8138 - val_loss: 0.4994 - val_accuracy: 0.8081\n",
      "Epoch 98/100\n",
      "13/13 [==============================] - 0s 9ms/step - loss: 0.4549 - accuracy: 0.8138 - val_loss: 0.5031 - val_accuracy: 0.8081\n",
      "Epoch 99/100\n",
      "13/13 [==============================] - 0s 8ms/step - loss: 0.4593 - accuracy: 0.8112 - val_loss: 0.5059 - val_accuracy: 0.7980\n",
      "Epoch 100/100\n",
      "13/13 [==============================] - 0s 8ms/step - loss: 0.4539 - accuracy: 0.8138 - val_loss: 0.5166 - val_accuracy: 0.8081\n"
     ]
    }
   ],
   "source": [
    "nn1.compile(loss=\"binary_crossentropy\",metrics=[\"accuracy\"])\n",
    "model1 = nn1.fit(xtrain,ytrain,epochs=100,validation_split=0.2)"
   ]
  },
  {
   "cell_type": "code",
   "execution_count": 23,
   "id": "a2a57cbb",
   "metadata": {},
   "outputs": [],
   "source": [
    "from sklearn.metrics import accuracy_score\n",
    "pred_tr1 = []\n",
    "for i in nn1.predict(xtrain):\n",
    "    if(i[0] < 0.5):\n",
    "        pred_tr1.append(0)\n",
    "    else:\n",
    "        pred_tr1.append(1)\n",
    "\n",
    "pred_ts1 = []\n",
    "for i in nn1.predict(xtest):\n",
    "    if(i[0] < 0.5):\n",
    "        pred_ts1.append(0)\n",
    "    else:\n",
    "        pred_ts1.append(1)"
   ]
  },
  {
   "cell_type": "code",
   "execution_count": 24,
   "id": "90b26df6",
   "metadata": {},
   "outputs": [],
   "source": [
    "acc_tr1 = accuracy_score(ytrain,pred_tr1)\n",
    "acc_ts1 = accuracy_score(ytest,pred_ts1)"
   ]
  },
  {
   "cell_type": "code",
   "execution_count": 25,
   "id": "0d42daa7",
   "metadata": {},
   "outputs": [
    {
     "data": {
      "text/plain": [
       "0.814663951120163"
      ]
     },
     "execution_count": 25,
     "metadata": {},
     "output_type": "execute_result"
    }
   ],
   "source": [
    "acc_tr1"
   ]
  },
  {
   "cell_type": "code",
   "execution_count": 26,
   "id": "9478799d",
   "metadata": {},
   "outputs": [
    {
     "data": {
      "text/plain": [
       "0.7967479674796748"
      ]
     },
     "execution_count": 26,
     "metadata": {},
     "output_type": "execute_result"
    }
   ],
   "source": [
    "acc_ts1"
   ]
  },
  {
   "cell_type": "markdown",
   "id": "5a6e3c20",
   "metadata": {},
   "source": [
    "### Configure early stopping"
   ]
  },
  {
   "cell_type": "code",
   "execution_count": 28,
   "id": "bf72fd47",
   "metadata": {},
   "outputs": [],
   "source": [
    "from keras.layers import Dense, Dropout\n",
    "from keras.models import Sequential\n",
    "from keras.callbacks import EarlyStopping"
   ]
  },
  {
   "cell_type": "code",
   "execution_count": 29,
   "id": "0a7fad7f",
   "metadata": {},
   "outputs": [
    {
     "name": "stdout",
     "output_type": "stream",
     "text": [
      "Epoch 1/1000\n",
      "13/13 [==============================] - 0s 30ms/step - loss: 0.5681 - accuracy: 0.7602 - val_loss: 0.5640 - val_accuracy: 0.7172\n",
      "Epoch 2/1000\n",
      "13/13 [==============================] - 0s 7ms/step - loss: 0.4975 - accuracy: 0.7959 - val_loss: 0.5427 - val_accuracy: 0.8081\n",
      "Epoch 3/1000\n",
      "13/13 [==============================] - 0s 7ms/step - loss: 0.4891 - accuracy: 0.7959 - val_loss: 0.5916 - val_accuracy: 0.7677\n",
      "Epoch 4/1000\n",
      "13/13 [==============================] - 0s 8ms/step - loss: 0.4971 - accuracy: 0.7806 - val_loss: 0.5290 - val_accuracy: 0.7980\n",
      "Epoch 5/1000\n",
      "13/13 [==============================] - 0s 7ms/step - loss: 0.4785 - accuracy: 0.7985 - val_loss: 0.5007 - val_accuracy: 0.8081\n",
      "Epoch 6/1000\n",
      "13/13 [==============================] - 0s 7ms/step - loss: 0.4714 - accuracy: 0.7959 - val_loss: 0.5334 - val_accuracy: 0.8182\n",
      "Epoch 7/1000\n",
      "13/13 [==============================] - 0s 7ms/step - loss: 0.4848 - accuracy: 0.8010 - val_loss: 0.5349 - val_accuracy: 0.8081\n",
      "Epoch 8/1000\n",
      "13/13 [==============================] - 0s 7ms/step - loss: 0.4851 - accuracy: 0.7883 - val_loss: 0.5328 - val_accuracy: 0.7879\n",
      "Epoch 9/1000\n",
      "13/13 [==============================] - 0s 7ms/step - loss: 0.4724 - accuracy: 0.8036 - val_loss: 0.4970 - val_accuracy: 0.8081\n",
      "Epoch 10/1000\n",
      "13/13 [==============================] - 0s 7ms/step - loss: 0.4799 - accuracy: 0.8112 - val_loss: 0.5402 - val_accuracy: 0.7778\n",
      "Epoch 11/1000\n",
      "13/13 [==============================] - 0s 7ms/step - loss: 0.4749 - accuracy: 0.8112 - val_loss: 0.5452 - val_accuracy: 0.8081\n",
      "Epoch 12/1000\n",
      "13/13 [==============================] - 0s 8ms/step - loss: 0.4922 - accuracy: 0.8010 - val_loss: 0.5063 - val_accuracy: 0.8081\n",
      "Epoch 13/1000\n",
      "13/13 [==============================] - 0s 9ms/step - loss: 0.4663 - accuracy: 0.8036 - val_loss: 0.5397 - val_accuracy: 0.8182\n",
      "Epoch 14/1000\n",
      "13/13 [==============================] - 0s 9ms/step - loss: 0.4771 - accuracy: 0.8010 - val_loss: 0.5340 - val_accuracy: 0.8182\n",
      "Epoch 15/1000\n",
      "13/13 [==============================] - 0s 8ms/step - loss: 0.4804 - accuracy: 0.8087 - val_loss: 0.5160 - val_accuracy: 0.8081\n",
      "Epoch 16/1000\n",
      "13/13 [==============================] - 0s 8ms/step - loss: 0.4691 - accuracy: 0.8036 - val_loss: 0.5256 - val_accuracy: 0.8182\n",
      "Epoch 17/1000\n",
      "13/13 [==============================] - 0s 7ms/step - loss: 0.4687 - accuracy: 0.7857 - val_loss: 0.5248 - val_accuracy: 0.8081\n",
      "Epoch 18/1000\n",
      "13/13 [==============================] - 0s 7ms/step - loss: 0.4746 - accuracy: 0.8061 - val_loss: 0.5163 - val_accuracy: 0.8081\n",
      "Epoch 19/1000\n",
      "13/13 [==============================] - 0s 8ms/step - loss: 0.4747 - accuracy: 0.8087 - val_loss: 0.5039 - val_accuracy: 0.8182\n",
      "Epoch 20/1000\n",
      "13/13 [==============================] - 0s 8ms/step - loss: 0.4766 - accuracy: 0.8087 - val_loss: 0.4980 - val_accuracy: 0.8182\n",
      "Epoch 21/1000\n",
      "13/13 [==============================] - 0s 8ms/step - loss: 0.4599 - accuracy: 0.8087 - val_loss: 0.5107 - val_accuracy: 0.8081\n",
      "Epoch 22/1000\n",
      "13/13 [==============================] - 0s 12ms/step - loss: 0.4693 - accuracy: 0.8036 - val_loss: 0.5590 - val_accuracy: 0.7879\n",
      "Epoch 23/1000\n",
      "13/13 [==============================] - 0s 11ms/step - loss: 0.4711 - accuracy: 0.8061 - val_loss: 0.5503 - val_accuracy: 0.8081\n",
      "Epoch 24/1000\n",
      "13/13 [==============================] - 0s 10ms/step - loss: 0.4745 - accuracy: 0.8087 - val_loss: 0.5262 - val_accuracy: 0.8081\n",
      "Epoch 25/1000\n",
      "13/13 [==============================] - 0s 11ms/step - loss: 0.4654 - accuracy: 0.8036 - val_loss: 0.5524 - val_accuracy: 0.7980\n",
      "Epoch 26/1000\n",
      "13/13 [==============================] - 0s 10ms/step - loss: 0.4635 - accuracy: 0.8036 - val_loss: 0.5345 - val_accuracy: 0.7980\n",
      "Epoch 27/1000\n",
      "13/13 [==============================] - 0s 9ms/step - loss: 0.4734 - accuracy: 0.8112 - val_loss: 0.5416 - val_accuracy: 0.8081\n",
      "Epoch 28/1000\n",
      "13/13 [==============================] - 0s 8ms/step - loss: 0.4681 - accuracy: 0.8010 - val_loss: 0.5190 - val_accuracy: 0.8081\n",
      "Epoch 29/1000\n",
      "13/13 [==============================] - 0s 9ms/step - loss: 0.4640 - accuracy: 0.8061 - val_loss: 0.5311 - val_accuracy: 0.7980\n",
      "Epoch 30/1000\n",
      "13/13 [==============================] - 0s 9ms/step - loss: 0.4682 - accuracy: 0.8010 - val_loss: 0.5372 - val_accuracy: 0.7879\n",
      "Epoch 31/1000\n",
      "13/13 [==============================] - 0s 9ms/step - loss: 0.4732 - accuracy: 0.7985 - val_loss: 0.5435 - val_accuracy: 0.8081\n",
      "Epoch 32/1000\n",
      "13/13 [==============================] - 0s 9ms/step - loss: 0.4634 - accuracy: 0.8087 - val_loss: 0.5258 - val_accuracy: 0.8081\n",
      "Epoch 33/1000\n",
      "13/13 [==============================] - 0s 9ms/step - loss: 0.4643 - accuracy: 0.8112 - val_loss: 0.5416 - val_accuracy: 0.8081\n",
      "Epoch 34/1000\n",
      "13/13 [==============================] - 0s 9ms/step - loss: 0.4612 - accuracy: 0.8087 - val_loss: 0.4994 - val_accuracy: 0.7980\n",
      "Epoch 35/1000\n",
      "13/13 [==============================] - 0s 9ms/step - loss: 0.4658 - accuracy: 0.8010 - val_loss: 0.5392 - val_accuracy: 0.8081\n",
      "Epoch 36/1000\n",
      "13/13 [==============================] - 0s 9ms/step - loss: 0.4754 - accuracy: 0.8036 - val_loss: 0.4962 - val_accuracy: 0.8081\n",
      "Epoch 37/1000\n",
      "13/13 [==============================] - 0s 12ms/step - loss: 0.4657 - accuracy: 0.8061 - val_loss: 0.5311 - val_accuracy: 0.8182\n",
      "Epoch 38/1000\n",
      "13/13 [==============================] - 0s 9ms/step - loss: 0.4652 - accuracy: 0.8010 - val_loss: 0.5051 - val_accuracy: 0.8081\n",
      "Epoch 39/1000\n",
      "13/13 [==============================] - 0s 10ms/step - loss: 0.4597 - accuracy: 0.8036 - val_loss: 0.5100 - val_accuracy: 0.8081\n",
      "Epoch 40/1000\n",
      "13/13 [==============================] - 0s 8ms/step - loss: 0.4684 - accuracy: 0.7934 - val_loss: 0.4971 - val_accuracy: 0.8081\n",
      "Epoch 41/1000\n",
      "13/13 [==============================] - 0s 11ms/step - loss: 0.4665 - accuracy: 0.8010 - val_loss: 0.5186 - val_accuracy: 0.7879\n",
      "Epoch 42/1000\n",
      "13/13 [==============================] - 0s 9ms/step - loss: 0.4643 - accuracy: 0.8010 - val_loss: 0.5022 - val_accuracy: 0.8081\n",
      "Epoch 43/1000\n",
      "13/13 [==============================] - 0s 10ms/step - loss: 0.4615 - accuracy: 0.8036 - val_loss: 0.5150 - val_accuracy: 0.8081\n",
      "Epoch 44/1000\n",
      "13/13 [==============================] - 0s 9ms/step - loss: 0.4598 - accuracy: 0.8061 - val_loss: 0.5095 - val_accuracy: 0.8081\n",
      "Epoch 45/1000\n",
      "13/13 [==============================] - 0s 10ms/step - loss: 0.4644 - accuracy: 0.8138 - val_loss: 0.5320 - val_accuracy: 0.7879\n",
      "Epoch 46/1000\n",
      "13/13 [==============================] - 0s 9ms/step - loss: 0.4652 - accuracy: 0.8061 - val_loss: 0.5377 - val_accuracy: 0.7980\n",
      "Epoch 47/1000\n",
      "13/13 [==============================] - 0s 9ms/step - loss: 0.4680 - accuracy: 0.8087 - val_loss: 0.5568 - val_accuracy: 0.7879\n",
      "Epoch 48/1000\n",
      "13/13 [==============================] - 0s 10ms/step - loss: 0.4628 - accuracy: 0.8112 - val_loss: 0.5429 - val_accuracy: 0.8081\n",
      "Epoch 49/1000\n",
      "13/13 [==============================] - 0s 9ms/step - loss: 0.4712 - accuracy: 0.8036 - val_loss: 0.4984 - val_accuracy: 0.8283\n",
      "Epoch 50/1000\n",
      "13/13 [==============================] - 0s 8ms/step - loss: 0.4570 - accuracy: 0.8112 - val_loss: 0.5180 - val_accuracy: 0.7980\n",
      "Epoch 51/1000\n",
      "13/13 [==============================] - 0s 7ms/step - loss: 0.4577 - accuracy: 0.8112 - val_loss: 0.5321 - val_accuracy: 0.7778\n",
      "Epoch 52/1000\n",
      "13/13 [==============================] - 0s 8ms/step - loss: 0.4648 - accuracy: 0.8010 - val_loss: 0.5216 - val_accuracy: 0.7980\n",
      "Epoch 53/1000\n",
      "13/13 [==============================] - 0s 7ms/step - loss: 0.4639 - accuracy: 0.8061 - val_loss: 0.5177 - val_accuracy: 0.8081\n",
      "Epoch 54/1000\n",
      "13/13 [==============================] - 0s 8ms/step - loss: 0.4619 - accuracy: 0.8061 - val_loss: 0.5051 - val_accuracy: 0.7879\n",
      "Epoch 55/1000\n",
      "13/13 [==============================] - 0s 8ms/step - loss: 0.4455 - accuracy: 0.8061 - val_loss: 0.5629 - val_accuracy: 0.8081\n",
      "Epoch 56/1000\n",
      "13/13 [==============================] - 0s 8ms/step - loss: 0.4769 - accuracy: 0.8138 - val_loss: 0.5069 - val_accuracy: 0.7980\n",
      "Epoch 57/1000\n",
      "13/13 [==============================] - 0s 8ms/step - loss: 0.4647 - accuracy: 0.8112 - val_loss: 0.5102 - val_accuracy: 0.7980\n",
      "Epoch 58/1000\n"
     ]
    },
    {
     "name": "stdout",
     "output_type": "stream",
     "text": [
      "13/13 [==============================] - 0s 8ms/step - loss: 0.4587 - accuracy: 0.8112 - val_loss: 0.5095 - val_accuracy: 0.8081\n",
      "Epoch 59/1000\n",
      "13/13 [==============================] - 0s 7ms/step - loss: 0.4606 - accuracy: 0.8138 - val_loss: 0.5279 - val_accuracy: 0.7879\n",
      "Epoch 60/1000\n",
      "13/13 [==============================] - 0s 7ms/step - loss: 0.4568 - accuracy: 0.8087 - val_loss: 0.5148 - val_accuracy: 0.7980\n",
      "Epoch 61/1000\n",
      "13/13 [==============================] - 0s 7ms/step - loss: 0.4466 - accuracy: 0.8087 - val_loss: 0.5444 - val_accuracy: 0.7980\n",
      "Epoch 62/1000\n",
      "13/13 [==============================] - 0s 7ms/step - loss: 0.4589 - accuracy: 0.8061 - val_loss: 0.5340 - val_accuracy: 0.8081\n",
      "Epoch 63/1000\n",
      "13/13 [==============================] - 0s 7ms/step - loss: 0.4580 - accuracy: 0.7959 - val_loss: 0.5295 - val_accuracy: 0.8182\n",
      "Epoch 64/1000\n",
      "13/13 [==============================] - 0s 7ms/step - loss: 0.4559 - accuracy: 0.8087 - val_loss: 0.5124 - val_accuracy: 0.8081\n",
      "Epoch 65/1000\n",
      "13/13 [==============================] - 0s 7ms/step - loss: 0.4526 - accuracy: 0.8036 - val_loss: 0.5574 - val_accuracy: 0.8081\n",
      "Epoch 66/1000\n",
      "13/13 [==============================] - 0s 7ms/step - loss: 0.4535 - accuracy: 0.8087 - val_loss: 0.5218 - val_accuracy: 0.7879\n",
      "Epoch 67/1000\n",
      "13/13 [==============================] - 0s 7ms/step - loss: 0.4533 - accuracy: 0.8112 - val_loss: 0.5250 - val_accuracy: 0.7879\n",
      "Epoch 68/1000\n",
      "13/13 [==============================] - 0s 6ms/step - loss: 0.4526 - accuracy: 0.8010 - val_loss: 0.5228 - val_accuracy: 0.7879\n",
      "Epoch 69/1000\n",
      "13/13 [==============================] - 0s 7ms/step - loss: 0.4598 - accuracy: 0.8061 - val_loss: 0.5402 - val_accuracy: 0.7879\n",
      "Epoch 70/1000\n",
      "13/13 [==============================] - 0s 6ms/step - loss: 0.4559 - accuracy: 0.8036 - val_loss: 0.5590 - val_accuracy: 0.8081\n",
      "Epoch 71/1000\n",
      "13/13 [==============================] - 0s 7ms/step - loss: 0.4574 - accuracy: 0.7985 - val_loss: 0.5211 - val_accuracy: 0.8081\n",
      "Epoch 72/1000\n",
      "13/13 [==============================] - 0s 6ms/step - loss: 0.4532 - accuracy: 0.8138 - val_loss: 0.5007 - val_accuracy: 0.8081\n",
      "Epoch 73/1000\n",
      "13/13 [==============================] - 0s 6ms/step - loss: 0.4581 - accuracy: 0.8087 - val_loss: 0.5157 - val_accuracy: 0.8182\n",
      "Epoch 74/1000\n",
      "13/13 [==============================] - 0s 6ms/step - loss: 0.4553 - accuracy: 0.8138 - val_loss: 0.5042 - val_accuracy: 0.8081\n",
      "Epoch 75/1000\n",
      "13/13 [==============================] - 0s 6ms/step - loss: 0.4580 - accuracy: 0.8061 - val_loss: 0.5054 - val_accuracy: 0.7879\n",
      "Epoch 76/1000\n",
      "13/13 [==============================] - 0s 6ms/step - loss: 0.4613 - accuracy: 0.8163 - val_loss: 0.4923 - val_accuracy: 0.8081\n",
      "Epoch 77/1000\n",
      "13/13 [==============================] - 0s 6ms/step - loss: 0.4599 - accuracy: 0.8189 - val_loss: 0.4944 - val_accuracy: 0.8081\n",
      "Epoch 78/1000\n",
      "13/13 [==============================] - ETA: 0s - loss: 0.4483 - accuracy: 0.80 - 0s 7ms/step - loss: 0.4483 - accuracy: 0.8087 - val_loss: 0.5132 - val_accuracy: 0.8081\n",
      "Epoch 79/1000\n",
      "13/13 [==============================] - 0s 7ms/step - loss: 0.4543 - accuracy: 0.8189 - val_loss: 0.5013 - val_accuracy: 0.8081\n",
      "Epoch 80/1000\n",
      "13/13 [==============================] - 0s 7ms/step - loss: 0.4557 - accuracy: 0.8112 - val_loss: 0.5074 - val_accuracy: 0.7980\n",
      "Epoch 81/1000\n",
      "13/13 [==============================] - 0s 7ms/step - loss: 0.4569 - accuracy: 0.8036 - val_loss: 0.5230 - val_accuracy: 0.7980\n",
      "Epoch 82/1000\n",
      "13/13 [==============================] - 0s 7ms/step - loss: 0.4584 - accuracy: 0.7959 - val_loss: 0.5162 - val_accuracy: 0.7879\n",
      "Epoch 83/1000\n",
      "13/13 [==============================] - 0s 7ms/step - loss: 0.4579 - accuracy: 0.8138 - val_loss: 0.5118 - val_accuracy: 0.7879\n",
      "Epoch 84/1000\n",
      "13/13 [==============================] - 0s 7ms/step - loss: 0.4518 - accuracy: 0.8189 - val_loss: 0.5252 - val_accuracy: 0.7980\n",
      "Epoch 85/1000\n",
      "13/13 [==============================] - 0s 7ms/step - loss: 0.4600 - accuracy: 0.8061 - val_loss: 0.4942 - val_accuracy: 0.8081\n",
      "Epoch 86/1000\n",
      "13/13 [==============================] - 0s 10ms/step - loss: 0.4537 - accuracy: 0.8163 - val_loss: 0.5111 - val_accuracy: 0.8081\n",
      "Epoch 87/1000\n",
      "13/13 [==============================] - 0s 6ms/step - loss: 0.4535 - accuracy: 0.8112 - val_loss: 0.5143 - val_accuracy: 0.8081\n",
      "Epoch 88/1000\n",
      "13/13 [==============================] - 0s 6ms/step - loss: 0.4648 - accuracy: 0.8087 - val_loss: 0.5215 - val_accuracy: 0.8081\n",
      "Epoch 89/1000\n",
      "13/13 [==============================] - 0s 7ms/step - loss: 0.4542 - accuracy: 0.8036 - val_loss: 0.5247 - val_accuracy: 0.7980\n",
      "Epoch 90/1000\n",
      "13/13 [==============================] - 0s 7ms/step - loss: 0.4596 - accuracy: 0.8087 - val_loss: 0.5468 - val_accuracy: 0.7980\n",
      "Epoch 91/1000\n",
      "13/13 [==============================] - 0s 7ms/step - loss: 0.4535 - accuracy: 0.8112 - val_loss: 0.5208 - val_accuracy: 0.8081\n",
      "Epoch 92/1000\n",
      "13/13 [==============================] - 0s 7ms/step - loss: 0.4561 - accuracy: 0.8087 - val_loss: 0.5380 - val_accuracy: 0.7980\n",
      "Epoch 93/1000\n",
      "13/13 [==============================] - 0s 6ms/step - loss: 0.4543 - accuracy: 0.8036 - val_loss: 0.5647 - val_accuracy: 0.8081\n",
      "Epoch 94/1000\n",
      "13/13 [==============================] - 0s 7ms/step - loss: 0.4637 - accuracy: 0.8087 - val_loss: 0.5064 - val_accuracy: 0.8081\n",
      "Epoch 95/1000\n",
      "13/13 [==============================] - 0s 7ms/step - loss: 0.4547 - accuracy: 0.8138 - val_loss: 0.5316 - val_accuracy: 0.8081\n",
      "Epoch 96/1000\n",
      "13/13 [==============================] - 0s 6ms/step - loss: 0.4567 - accuracy: 0.8112 - val_loss: 0.5279 - val_accuracy: 0.8081\n",
      "Epoch 97/1000\n",
      "13/13 [==============================] - 0s 7ms/step - loss: 0.4539 - accuracy: 0.8138 - val_loss: 0.5285 - val_accuracy: 0.7980\n",
      "Epoch 98/1000\n",
      "13/13 [==============================] - 0s 8ms/step - loss: 0.4538 - accuracy: 0.8138 - val_loss: 0.5179 - val_accuracy: 0.7879\n",
      "Epoch 99/1000\n",
      "13/13 [==============================] - 0s 7ms/step - loss: 0.4512 - accuracy: 0.8087 - val_loss: 0.5188 - val_accuracy: 0.8081\n",
      "Epoch 100/1000\n",
      "13/13 [==============================] - 0s 6ms/step - loss: 0.4533 - accuracy: 0.8138 - val_loss: 0.5295 - val_accuracy: 0.7980\n",
      "Epoch 101/1000\n",
      "13/13 [==============================] - 0s 7ms/step - loss: 0.4490 - accuracy: 0.8112 - val_loss: 0.5280 - val_accuracy: 0.7980\n",
      "Epoch 102/1000\n",
      "13/13 [==============================] - 0s 7ms/step - loss: 0.4594 - accuracy: 0.8087 - val_loss: 0.5258 - val_accuracy: 0.7980\n",
      "Epoch 103/1000\n",
      "13/13 [==============================] - 0s 7ms/step - loss: 0.4657 - accuracy: 0.8138 - val_loss: 0.5196 - val_accuracy: 0.8081\n",
      "Epoch 104/1000\n",
      "13/13 [==============================] - 0s 7ms/step - loss: 0.4528 - accuracy: 0.8138 - val_loss: 0.5196 - val_accuracy: 0.8081\n",
      "Epoch 105/1000\n",
      "13/13 [==============================] - 0s 7ms/step - loss: 0.4513 - accuracy: 0.8061 - val_loss: 0.5224 - val_accuracy: 0.8081\n",
      "Epoch 106/1000\n",
      "13/13 [==============================] - 0s 7ms/step - loss: 0.4552 - accuracy: 0.8138 - val_loss: 0.5240 - val_accuracy: 0.8081\n",
      "Epoch 107/1000\n",
      "13/13 [==============================] - 0s 8ms/step - loss: 0.4562 - accuracy: 0.8112 - val_loss: 0.5193 - val_accuracy: 0.7980\n",
      "Epoch 108/1000\n",
      "13/13 [==============================] - 0s 7ms/step - loss: 0.4499 - accuracy: 0.8087 - val_loss: 0.5118 - val_accuracy: 0.8081\n",
      "Epoch 109/1000\n",
      "13/13 [==============================] - 0s 7ms/step - loss: 0.4576 - accuracy: 0.8061 - val_loss: 0.5158 - val_accuracy: 0.8081\n",
      "Epoch 110/1000\n",
      "13/13 [==============================] - 0s 8ms/step - loss: 0.4570 - accuracy: 0.8138 - val_loss: 0.5271 - val_accuracy: 0.8081\n",
      "Epoch 111/1000\n",
      "13/13 [==============================] - 0s 7ms/step - loss: 0.4479 - accuracy: 0.8112 - val_loss: 0.5251 - val_accuracy: 0.8081\n",
      "Epoch 112/1000\n",
      "13/13 [==============================] - 0s 8ms/step - loss: 0.4611 - accuracy: 0.8112 - val_loss: 0.5344 - val_accuracy: 0.7980\n",
      "Epoch 113/1000\n",
      "13/13 [==============================] - 0s 12ms/step - loss: 0.4531 - accuracy: 0.8163 - val_loss: 0.5186 - val_accuracy: 0.8081\n",
      "Epoch 114/1000\n",
      "13/13 [==============================] - 0s 10ms/step - loss: 0.4448 - accuracy: 0.8163 - val_loss: 0.5250 - val_accuracy: 0.8182\n"
     ]
    },
    {
     "name": "stdout",
     "output_type": "stream",
     "text": [
      "Epoch 115/1000\n",
      "13/13 [==============================] - 0s 9ms/step - loss: 0.4587 - accuracy: 0.8138 - val_loss: 0.5072 - val_accuracy: 0.8081\n",
      "Epoch 116/1000\n",
      "13/13 [==============================] - 0s 9ms/step - loss: 0.4551 - accuracy: 0.8138 - val_loss: 0.5171 - val_accuracy: 0.8081\n",
      "Epoch 117/1000\n",
      "13/13 [==============================] - 0s 7ms/step - loss: 0.4529 - accuracy: 0.8061 - val_loss: 0.5268 - val_accuracy: 0.8081\n",
      "Epoch 118/1000\n",
      "13/13 [==============================] - 0s 6ms/step - loss: 0.4612 - accuracy: 0.8112 - val_loss: 0.5099 - val_accuracy: 0.8081\n",
      "Epoch 119/1000\n",
      "13/13 [==============================] - 0s 6ms/step - loss: 0.4538 - accuracy: 0.8138 - val_loss: 0.5226 - val_accuracy: 0.8081\n",
      "Epoch 120/1000\n",
      "13/13 [==============================] - 0s 8ms/step - loss: 0.4578 - accuracy: 0.8112 - val_loss: 0.5433 - val_accuracy: 0.8081\n",
      "Epoch 121/1000\n",
      "13/13 [==============================] - 0s 8ms/step - loss: 0.4588 - accuracy: 0.8138 - val_loss: 0.5302 - val_accuracy: 0.8081\n",
      "Epoch 122/1000\n",
      "13/13 [==============================] - 0s 7ms/step - loss: 0.4518 - accuracy: 0.8112 - val_loss: 0.5060 - val_accuracy: 0.8081\n",
      "Epoch 123/1000\n",
      "13/13 [==============================] - 0s 7ms/step - loss: 0.4508 - accuracy: 0.8112 - val_loss: 0.5180 - val_accuracy: 0.8081\n",
      "Epoch 124/1000\n",
      "13/13 [==============================] - 0s 6ms/step - loss: 0.4569 - accuracy: 0.8112 - val_loss: 0.5073 - val_accuracy: 0.8081\n",
      "Epoch 125/1000\n",
      "13/13 [==============================] - 0s 6ms/step - loss: 0.4538 - accuracy: 0.8163 - val_loss: 0.5145 - val_accuracy: 0.7879\n",
      "Epoch 126/1000\n",
      "13/13 [==============================] - 0s 6ms/step - loss: 0.4533 - accuracy: 0.8112 - val_loss: 0.5056 - val_accuracy: 0.8081\n"
     ]
    }
   ],
   "source": [
    "es = EarlyStopping(patience = 50)\n",
    "nn2 = Sequential()\n",
    "nn2.add(Dense(200,input_dim=(20)))\n",
    "nn2.add(Dense(200))\n",
    "nn2.add(Dropout(0.1))\n",
    "nn2.add(Dense(200))\n",
    "nn2.add(Dropout(0.1))\n",
    "nn2.add(Dense(1,activation=\"sigmoid\"))\n",
    "\n",
    "nn2.compile(loss = \"binary_crossentropy\",metrics=[\"accuracy\"])\n",
    "model2 = nn2.fit(xtrain,ytrain,epochs=1000,validation_split=0.2,callbacks=es)"
   ]
  },
  {
   "cell_type": "code",
   "execution_count": 30,
   "id": "872b9fcc",
   "metadata": {},
   "outputs": [],
   "source": [
    "from sklearn.metrics import accuracy_score\n",
    "\n",
    "pred_tr2 = []\n",
    "for i in nn2.predict(xtrain):\n",
    "    if(i[0] < 0.5):\n",
    "        pred_tr2.append(0)\n",
    "    else:\n",
    "        pred_tr2.append(1)\n",
    "        \n",
    "pred_ts2 = []\n",
    "for i in nn2.predict(xtest):\n",
    "    if(i[0] < 0.5):\n",
    "        pred_ts2.append(0)\n",
    "    else:\n",
    "        pred_ts2.append(1)\n",
    "\n",
    "acc_tr2 = accuracy_score(ytrain,pred_tr2)\n",
    "acc_ts2 = accuracy_score(ytest,pred_ts2)"
   ]
  },
  {
   "cell_type": "code",
   "execution_count": 31,
   "id": "1b1e6610",
   "metadata": {},
   "outputs": [
    {
     "data": {
      "text/plain": [
       "0.814663951120163"
      ]
     },
     "execution_count": 31,
     "metadata": {},
     "output_type": "execute_result"
    }
   ],
   "source": [
    "acc_tr2"
   ]
  },
  {
   "cell_type": "code",
   "execution_count": 32,
   "id": "6c2eda56",
   "metadata": {},
   "outputs": [
    {
     "data": {
      "text/plain": [
       "0.8048780487804879"
      ]
     },
     "execution_count": 32,
     "metadata": {},
     "output_type": "execute_result"
    }
   ],
   "source": [
    "acc_ts2"
   ]
  },
  {
   "cell_type": "code",
   "execution_count": null,
   "id": "60533c64",
   "metadata": {},
   "outputs": [],
   "source": []
  }
 ],
 "metadata": {
  "kernelspec": {
   "display_name": "Python 3 (ipykernel)",
   "language": "python",
   "name": "python3"
  },
  "language_info": {
   "codemirror_mode": {
    "name": "ipython",
    "version": 3
   },
   "file_extension": ".py",
   "mimetype": "text/x-python",
   "name": "python",
   "nbconvert_exporter": "python",
   "pygments_lexer": "ipython3",
   "version": "3.8.12"
  }
 },
 "nbformat": 4,
 "nbformat_minor": 5
}
